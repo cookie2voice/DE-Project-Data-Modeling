{
 "cells": [
  {
   "cell_type": "markdown",
   "metadata": {},
   "source": [
    "# ETL Processes\n",
    "Use this notebook to develop the ETL process for each of your tables before completing the `etl.py` file to load the whole datasets."
   ]
  },
  {
   "cell_type": "code",
   "execution_count": 1,
   "metadata": {},
   "outputs": [],
   "source": [
    "import os\n",
    "import glob\n",
    "import psycopg2\n",
    "import pandas as pd\n",
    "from sql_queries import *\n",
    "import numpy as np"
   ]
  },
  {
   "cell_type": "code",
   "execution_count": 2,
   "metadata": {},
   "outputs": [],
   "source": [
    "conn = psycopg2.connect(\"host=127.0.0.1 dbname=sparkifydb user=student password=student\")\n",
    "cur = conn.cursor()"
   ]
  },
  {
   "cell_type": "code",
   "execution_count": 3,
   "metadata": {},
   "outputs": [],
   "source": [
    "def get_files(filepath):\n",
    "    all_files = []\n",
    "    for root, dirs, files in os.walk(filepath):\n",
    "        files = glob.glob(os.path.join(root,'*.json'))\n",
    "        for f in files :\n",
    "            all_files.append(os.path.abspath(f))\n",
    "    \n",
    "    return all_files"
   ]
  },
  {
   "cell_type": "markdown",
   "metadata": {},
   "source": [
    "# Process `song_data`\n",
    "In this first part, you'll perform ETL on the first dataset, `song_data`, to create the `songs` and `artists` dimensional tables.\n",
    "\n",
    "Let's perform ETL on a single song file and load a single record into each table to start.\n",
    "- Use the `get_files` function provided above to get a list of all song JSON files in `data/song_data`\n",
    "- Select the first song in this list\n",
    "- Read the song file and view the data"
   ]
  },
  {
   "cell_type": "code",
   "execution_count": 4,
   "metadata": {},
   "outputs": [],
   "source": [
    "song_files = get_files(\"data/song_data/\")"
   ]
  },
  {
   "cell_type": "code",
   "execution_count": 5,
   "metadata": {},
   "outputs": [],
   "source": [
    "filepath = song_files[0]"
   ]
  },
  {
   "cell_type": "code",
   "execution_count": 6,
   "metadata": {},
   "outputs": [
    {
     "data": {
      "text/html": [
       "<div>\n",
       "<style scoped>\n",
       "    .dataframe tbody tr th:only-of-type {\n",
       "        vertical-align: middle;\n",
       "    }\n",
       "\n",
       "    .dataframe tbody tr th {\n",
       "        vertical-align: top;\n",
       "    }\n",
       "\n",
       "    .dataframe thead th {\n",
       "        text-align: right;\n",
       "    }\n",
       "</style>\n",
       "<table border=\"1\" class=\"dataframe\">\n",
       "  <thead>\n",
       "    <tr style=\"text-align: right;\">\n",
       "      <th></th>\n",
       "      <th>num_songs</th>\n",
       "      <th>artist_id</th>\n",
       "      <th>artist_latitude</th>\n",
       "      <th>artist_longitude</th>\n",
       "      <th>artist_location</th>\n",
       "      <th>artist_name</th>\n",
       "      <th>song_id</th>\n",
       "      <th>title</th>\n",
       "      <th>duration</th>\n",
       "      <th>year</th>\n",
       "    </tr>\n",
       "  </thead>\n",
       "  <tbody>\n",
       "    <tr>\n",
       "      <th>0</th>\n",
       "      <td>1</td>\n",
       "      <td>AR36F9J1187FB406F1</td>\n",
       "      <td>56.27609</td>\n",
       "      <td>9.51695</td>\n",
       "      <td>Denmark</td>\n",
       "      <td>Bombay Rockers</td>\n",
       "      <td>SOBKWDJ12A8C13B2F3</td>\n",
       "      <td>Wild Rose (Back 2 Basics Mix)</td>\n",
       "      <td>230.71302</td>\n",
       "      <td>0</td>\n",
       "    </tr>\n",
       "  </tbody>\n",
       "</table>\n",
       "</div>"
      ],
      "text/plain": [
       "   num_songs           artist_id  artist_latitude  artist_longitude  \\\n",
       "0          1  AR36F9J1187FB406F1         56.27609           9.51695   \n",
       "\n",
       "  artist_location     artist_name             song_id  \\\n",
       "0         Denmark  Bombay Rockers  SOBKWDJ12A8C13B2F3   \n",
       "\n",
       "                           title   duration  year  \n",
       "0  Wild Rose (Back 2 Basics Mix)  230.71302     0  "
      ]
     },
     "execution_count": 6,
     "metadata": {},
     "output_type": "execute_result"
    }
   ],
   "source": [
    "df_songs = pd.read_json(filepath, lines=True)\n",
    "df_songs.head()"
   ]
  },
  {
   "cell_type": "markdown",
   "metadata": {},
   "source": [
    "## #1: `songs` Table\n",
    "#### Extract Data for Songs Table\n",
    "- Select columns for song ID, title, artist ID, year, and duration\n",
    "- Use `df.values` to select just the values from the dataframe\n",
    "- Index to select the first (only) record in the dataframe\n",
    "- Convert the array to a list and set it to `song_data`"
   ]
  },
  {
   "cell_type": "code",
   "execution_count": 7,
   "metadata": {},
   "outputs": [
    {
     "data": {
      "text/plain": [
       "['SOBKWDJ12A8C13B2F3',\n",
       " 'Wild Rose (Back 2 Basics Mix)',\n",
       " 'AR36F9J1187FB406F1',\n",
       " 0,\n",
       " 230.71302]"
      ]
     },
     "execution_count": 7,
     "metadata": {},
     "output_type": "execute_result"
    }
   ],
   "source": [
    "song_data = [df_songs.values[0, 6], df_songs.values[0, 7], \n",
    "             df_songs.values[0, 1], df_songs.values[0, 9], df_songs.values[0, 8]]\n",
    "song_data"
   ]
  },
  {
   "cell_type": "markdown",
   "metadata": {},
   "source": [
    "#### Insert Record into Song Table\n",
    "Implement the `song_table_insert` query in `sql_queries.py` and run the cell below to insert a record for this song into the `songs` table. Remember to run `create_tables.py` before running the cell below to ensure you've created/resetted the `songs` table in the sparkify database."
   ]
  },
  {
   "cell_type": "code",
   "execution_count": 8,
   "metadata": {},
   "outputs": [],
   "source": [
    "cur.execute(song_table_insert, song_data)\n",
    "conn.commit()"
   ]
  },
  {
   "cell_type": "markdown",
   "metadata": {},
   "source": [
    "Run `test.ipynb` to see if you've successfully added a record to this table."
   ]
  },
  {
   "cell_type": "markdown",
   "metadata": {},
   "source": [
    "## #2: `artists` Table\n",
    "#### Extract Data for Artists Table\n",
    "- Select columns for artist ID, name, location, latitude, and longitude\n",
    "- Use `df.values` to select just the values from the dataframe\n",
    "- Index to select the first (only) record in the dataframe\n",
    "- Convert the array to a list and set it to `artist_data`"
   ]
  },
  {
   "cell_type": "code",
   "execution_count": 9,
   "metadata": {},
   "outputs": [
    {
     "data": {
      "text/html": [
       "<div>\n",
       "<style scoped>\n",
       "    .dataframe tbody tr th:only-of-type {\n",
       "        vertical-align: middle;\n",
       "    }\n",
       "\n",
       "    .dataframe tbody tr th {\n",
       "        vertical-align: top;\n",
       "    }\n",
       "\n",
       "    .dataframe thead th {\n",
       "        text-align: right;\n",
       "    }\n",
       "</style>\n",
       "<table border=\"1\" class=\"dataframe\">\n",
       "  <thead>\n",
       "    <tr style=\"text-align: right;\">\n",
       "      <th></th>\n",
       "      <th>num_songs</th>\n",
       "      <th>artist_id</th>\n",
       "      <th>artist_latitude</th>\n",
       "      <th>artist_longitude</th>\n",
       "      <th>artist_location</th>\n",
       "      <th>artist_name</th>\n",
       "      <th>song_id</th>\n",
       "      <th>title</th>\n",
       "      <th>duration</th>\n",
       "      <th>year</th>\n",
       "    </tr>\n",
       "  </thead>\n",
       "  <tbody>\n",
       "    <tr>\n",
       "      <th>0</th>\n",
       "      <td>1</td>\n",
       "      <td>AR36F9J1187FB406F1</td>\n",
       "      <td>56.27609</td>\n",
       "      <td>9.51695</td>\n",
       "      <td>Denmark</td>\n",
       "      <td>Bombay Rockers</td>\n",
       "      <td>SOBKWDJ12A8C13B2F3</td>\n",
       "      <td>Wild Rose (Back 2 Basics Mix)</td>\n",
       "      <td>230.71302</td>\n",
       "      <td>0</td>\n",
       "    </tr>\n",
       "  </tbody>\n",
       "</table>\n",
       "</div>"
      ],
      "text/plain": [
       "   num_songs           artist_id  artist_latitude  artist_longitude  \\\n",
       "0          1  AR36F9J1187FB406F1         56.27609           9.51695   \n",
       "\n",
       "  artist_location     artist_name             song_id  \\\n",
       "0         Denmark  Bombay Rockers  SOBKWDJ12A8C13B2F3   \n",
       "\n",
       "                           title   duration  year  \n",
       "0  Wild Rose (Back 2 Basics Mix)  230.71302     0  "
      ]
     },
     "execution_count": 9,
     "metadata": {},
     "output_type": "execute_result"
    }
   ],
   "source": [
    "df_songs"
   ]
  },
  {
   "cell_type": "code",
   "execution_count": 10,
   "metadata": {},
   "outputs": [
    {
     "data": {
      "text/plain": [
       "['AR36F9J1187FB406F1', 'Bombay Rockers', 'Denmark', 9.51695, 56.27609]"
      ]
     },
     "execution_count": 10,
     "metadata": {},
     "output_type": "execute_result"
    }
   ],
   "source": [
    "artist_data = [df_songs.values[0, 1], df_songs.values[0, 5], \n",
    "               df_songs.values[0, 4], df_songs.values[0, 3], \n",
    "               df_songs.values[0, 2]]\n",
    "artist_data"
   ]
  },
  {
   "cell_type": "markdown",
   "metadata": {},
   "source": [
    "#### Insert Record into Artist Table\n",
    "Implement the `artist_table_insert` query in `sql_queries.py` and run the cell below to insert a record for this song's artist into the `artists` table. Remember to run `create_tables.py` before running the cell below to ensure you've created/resetted the `artists` table in the sparkify database."
   ]
  },
  {
   "cell_type": "code",
   "execution_count": 11,
   "metadata": {},
   "outputs": [],
   "source": [
    "cur.execute(artist_table_insert, artist_data)\n",
    "conn.commit()"
   ]
  },
  {
   "cell_type": "markdown",
   "metadata": {},
   "source": [
    "Run `test.ipynb` to see if you've successfully added a record to this table."
   ]
  },
  {
   "cell_type": "markdown",
   "metadata": {},
   "source": [
    "# Process `log_data`\n",
    "In this part, you'll perform ETL on the second dataset, `log_data`, to create the `time` and `users` dimensional tables, as well as the `songplays` fact table.\n",
    "\n",
    "Let's perform ETL on a single log file and load a single record into each table.\n",
    "- Use the `get_files` function provided above to get a list of all log JSON files in `data/log_data`\n",
    "- Select the first log file in this list\n",
    "- Read the log file and view the data"
   ]
  },
  {
   "cell_type": "code",
   "execution_count": 12,
   "metadata": {},
   "outputs": [],
   "source": [
    "log_files = get_files(\"data/log_data\")"
   ]
  },
  {
   "cell_type": "code",
   "execution_count": 13,
   "metadata": {},
   "outputs": [],
   "source": [
    "filepath = log_files[0]"
   ]
  },
  {
   "cell_type": "code",
   "execution_count": 14,
   "metadata": {},
   "outputs": [
    {
     "data": {
      "text/html": [
       "<div>\n",
       "<style scoped>\n",
       "    .dataframe tbody tr th:only-of-type {\n",
       "        vertical-align: middle;\n",
       "    }\n",
       "\n",
       "    .dataframe tbody tr th {\n",
       "        vertical-align: top;\n",
       "    }\n",
       "\n",
       "    .dataframe thead th {\n",
       "        text-align: right;\n",
       "    }\n",
       "</style>\n",
       "<table border=\"1\" class=\"dataframe\">\n",
       "  <thead>\n",
       "    <tr style=\"text-align: right;\">\n",
       "      <th></th>\n",
       "      <th>artist</th>\n",
       "      <th>auth</th>\n",
       "      <th>firstName</th>\n",
       "      <th>gender</th>\n",
       "      <th>itemInSession</th>\n",
       "      <th>lastName</th>\n",
       "      <th>length</th>\n",
       "      <th>level</th>\n",
       "      <th>location</th>\n",
       "      <th>method</th>\n",
       "      <th>page</th>\n",
       "      <th>registration</th>\n",
       "      <th>sessionId</th>\n",
       "      <th>song</th>\n",
       "      <th>status</th>\n",
       "      <th>ts</th>\n",
       "      <th>userAgent</th>\n",
       "      <th>userId</th>\n",
       "    </tr>\n",
       "  </thead>\n",
       "  <tbody>\n",
       "    <tr>\n",
       "      <th>0</th>\n",
       "      <td>None</td>\n",
       "      <td>Logged In</td>\n",
       "      <td>Dominick</td>\n",
       "      <td>M</td>\n",
       "      <td>0</td>\n",
       "      <td>Norris</td>\n",
       "      <td>NaN</td>\n",
       "      <td>free</td>\n",
       "      <td>Los Angeles-Long Beach-Anaheim, CA</td>\n",
       "      <td>GET</td>\n",
       "      <td>Home</td>\n",
       "      <td>1.540976e+12</td>\n",
       "      <td>44</td>\n",
       "      <td>None</td>\n",
       "      <td>200</td>\n",
       "      <td>1541635950796</td>\n",
       "      <td>\"Mozilla/5.0 (iPhone; CPU iPhone OS 7_1_2 like...</td>\n",
       "      <td>45</td>\n",
       "    </tr>\n",
       "    <tr>\n",
       "      <th>1</th>\n",
       "      <td>Slipknot</td>\n",
       "      <td>Logged In</td>\n",
       "      <td>Aiden</td>\n",
       "      <td>M</td>\n",
       "      <td>0</td>\n",
       "      <td>Ramirez</td>\n",
       "      <td>192.57424</td>\n",
       "      <td>paid</td>\n",
       "      <td>New York-Newark-Jersey City, NY-NJ-PA</td>\n",
       "      <td>PUT</td>\n",
       "      <td>NextSong</td>\n",
       "      <td>1.540284e+12</td>\n",
       "      <td>19</td>\n",
       "      <td>Opium Of The People (Album Version)</td>\n",
       "      <td>200</td>\n",
       "      <td>1541639510796</td>\n",
       "      <td>\"Mozilla/5.0 (Windows NT 6.1) AppleWebKit/537....</td>\n",
       "      <td>20</td>\n",
       "    </tr>\n",
       "    <tr>\n",
       "      <th>2</th>\n",
       "      <td>Cat Stevens</td>\n",
       "      <td>Logged In</td>\n",
       "      <td>Aiden</td>\n",
       "      <td>M</td>\n",
       "      <td>1</td>\n",
       "      <td>Ramirez</td>\n",
       "      <td>170.57914</td>\n",
       "      <td>paid</td>\n",
       "      <td>New York-Newark-Jersey City, NY-NJ-PA</td>\n",
       "      <td>PUT</td>\n",
       "      <td>NextSong</td>\n",
       "      <td>1.540284e+12</td>\n",
       "      <td>19</td>\n",
       "      <td>Don't Be Shy</td>\n",
       "      <td>200</td>\n",
       "      <td>1541639702796</td>\n",
       "      <td>\"Mozilla/5.0 (Windows NT 6.1) AppleWebKit/537....</td>\n",
       "      <td>20</td>\n",
       "    </tr>\n",
       "    <tr>\n",
       "      <th>3</th>\n",
       "      <td>Collective Soul</td>\n",
       "      <td>Logged In</td>\n",
       "      <td>Aiden</td>\n",
       "      <td>M</td>\n",
       "      <td>2</td>\n",
       "      <td>Ramirez</td>\n",
       "      <td>273.47546</td>\n",
       "      <td>paid</td>\n",
       "      <td>New York-Newark-Jersey City, NY-NJ-PA</td>\n",
       "      <td>PUT</td>\n",
       "      <td>NextSong</td>\n",
       "      <td>1.540284e+12</td>\n",
       "      <td>19</td>\n",
       "      <td>Run (LP Version)</td>\n",
       "      <td>200</td>\n",
       "      <td>1541639872796</td>\n",
       "      <td>\"Mozilla/5.0 (Windows NT 6.1) AppleWebKit/537....</td>\n",
       "      <td>20</td>\n",
       "    </tr>\n",
       "    <tr>\n",
       "      <th>4</th>\n",
       "      <td>Taylor Swift</td>\n",
       "      <td>Logged In</td>\n",
       "      <td>Aiden</td>\n",
       "      <td>M</td>\n",
       "      <td>3</td>\n",
       "      <td>Ramirez</td>\n",
       "      <td>233.89995</td>\n",
       "      <td>paid</td>\n",
       "      <td>New York-Newark-Jersey City, NY-NJ-PA</td>\n",
       "      <td>PUT</td>\n",
       "      <td>NextSong</td>\n",
       "      <td>1.540284e+12</td>\n",
       "      <td>19</td>\n",
       "      <td>Love Story</td>\n",
       "      <td>200</td>\n",
       "      <td>1541640145796</td>\n",
       "      <td>\"Mozilla/5.0 (Windows NT 6.1) AppleWebKit/537....</td>\n",
       "      <td>20</td>\n",
       "    </tr>\n",
       "  </tbody>\n",
       "</table>\n",
       "</div>"
      ],
      "text/plain": [
       "            artist       auth firstName gender  itemInSession lastName  \\\n",
       "0             None  Logged In  Dominick      M              0   Norris   \n",
       "1         Slipknot  Logged In     Aiden      M              0  Ramirez   \n",
       "2      Cat Stevens  Logged In     Aiden      M              1  Ramirez   \n",
       "3  Collective Soul  Logged In     Aiden      M              2  Ramirez   \n",
       "4     Taylor Swift  Logged In     Aiden      M              3  Ramirez   \n",
       "\n",
       "      length level                               location method      page  \\\n",
       "0        NaN  free     Los Angeles-Long Beach-Anaheim, CA    GET      Home   \n",
       "1  192.57424  paid  New York-Newark-Jersey City, NY-NJ-PA    PUT  NextSong   \n",
       "2  170.57914  paid  New York-Newark-Jersey City, NY-NJ-PA    PUT  NextSong   \n",
       "3  273.47546  paid  New York-Newark-Jersey City, NY-NJ-PA    PUT  NextSong   \n",
       "4  233.89995  paid  New York-Newark-Jersey City, NY-NJ-PA    PUT  NextSong   \n",
       "\n",
       "   registration  sessionId                                 song  status  \\\n",
       "0  1.540976e+12         44                                 None     200   \n",
       "1  1.540284e+12         19  Opium Of The People (Album Version)     200   \n",
       "2  1.540284e+12         19                         Don't Be Shy     200   \n",
       "3  1.540284e+12         19                     Run (LP Version)     200   \n",
       "4  1.540284e+12         19                           Love Story     200   \n",
       "\n",
       "              ts                                          userAgent userId  \n",
       "0  1541635950796  \"Mozilla/5.0 (iPhone; CPU iPhone OS 7_1_2 like...     45  \n",
       "1  1541639510796  \"Mozilla/5.0 (Windows NT 6.1) AppleWebKit/537....     20  \n",
       "2  1541639702796  \"Mozilla/5.0 (Windows NT 6.1) AppleWebKit/537....     20  \n",
       "3  1541639872796  \"Mozilla/5.0 (Windows NT 6.1) AppleWebKit/537....     20  \n",
       "4  1541640145796  \"Mozilla/5.0 (Windows NT 6.1) AppleWebKit/537....     20  "
      ]
     },
     "execution_count": 14,
     "metadata": {},
     "output_type": "execute_result"
    }
   ],
   "source": [
    "df_log = pd.read_json(filepath, lines=True) \n",
    "df_log.head()"
   ]
  },
  {
   "cell_type": "markdown",
   "metadata": {},
   "source": [
    "## #3: `time` Table\n",
    "#### Extract Data for Time Table\n",
    "- Filter records by `NextSong` action\n",
    "- Convert the `ts` timestamp column to datetime\n",
    "  - Hint: the current timestamp is in milliseconds\n",
    "- Extract the timestamp, hour, day, week of year, month, year, and weekday from the `ts` column and set `time_data` to a list containing these values in order\n",
    "  - Hint: use pandas' [`dt` attribute](https://pandas.pydata.org/pandas-docs/stable/reference/api/pandas.Series.dt.html) to access easily datetimelike properties.\n",
    "- Specify labels for these columns and set to `column_labels`\n",
    "- Create a dataframe, `time_df,` containing the time data for this file by combining `column_labels` and `time_data` into a dictionary and converting this into a dataframe"
   ]
  },
  {
   "cell_type": "code",
   "execution_count": 15,
   "metadata": {},
   "outputs": [],
   "source": [
    "df_log = df_log[df_log['page'] == 'NextSong']"
   ]
  },
  {
   "cell_type": "code",
   "execution_count": 16,
   "metadata": {},
   "outputs": [],
   "source": [
    "t_data = (pd.to_datetime(df_log.ts, unit='ms')).dt\n"
   ]
  },
  {
   "cell_type": "code",
   "execution_count": 17,
   "metadata": {},
   "outputs": [],
   "source": [
    "column_labels = ['timestamp', 'hour', 'day', 'week', 'month', 'year', 'weekday']"
   ]
  },
  {
   "cell_type": "code",
   "execution_count": 18,
   "metadata": {},
   "outputs": [],
   "source": [
    "time_data =[df_log.ts, t_data.hour, t_data.day, \n",
    "            t_data.isocalendar().week, t_data.month, \n",
    "            t_data.year, t_data.weekday]"
   ]
  },
  {
   "cell_type": "code",
   "execution_count": 19,
   "metadata": {},
   "outputs": [],
   "source": [
    "time_df = pd.DataFrame(np.array(time_data).T, columns=column_labels)"
   ]
  },
  {
   "cell_type": "markdown",
   "metadata": {},
   "source": [
    "#### Insert Records into Time Table\n",
    "Implement the `time_table_insert` query in `sql_queries.py` and run the cell below to insert records for the timestamps in this log file into the `time` table. Remember to run `create_tables.py` before running the cell below to ensure you've created/resetted the `time` table in the sparkify database."
   ]
  },
  {
   "cell_type": "code",
   "execution_count": 20,
   "metadata": {},
   "outputs": [],
   "source": [
    "for i, row in time_df.iterrows():\n",
    "    cur.execute(time_table_insert, list(row))\n",
    "    conn.commit()"
   ]
  },
  {
   "cell_type": "markdown",
   "metadata": {},
   "source": [
    "Run `test.ipynb` to see if you've successfully added records to this table."
   ]
  },
  {
   "cell_type": "markdown",
   "metadata": {},
   "source": [
    "## #4: `users` Table\n",
    "#### Extract Data for Users Table\n",
    "- Select columns for user ID, first name, last name, gender and level and set to `user_df`"
   ]
  },
  {
   "cell_type": "code",
   "execution_count": 21,
   "metadata": {},
   "outputs": [
    {
     "data": {
      "text/plain": [
       "Index(['artist', 'auth', 'firstName', 'gender', 'itemInSession', 'lastName',\n",
       "       'length', 'level', 'location', 'method', 'page', 'registration',\n",
       "       'sessionId', 'song', 'status', 'ts', 'userAgent', 'userId'],\n",
       "      dtype='object')"
      ]
     },
     "execution_count": 21,
     "metadata": {},
     "output_type": "execute_result"
    }
   ],
   "source": [
    "df_log.columns"
   ]
  },
  {
   "cell_type": "code",
   "execution_count": 22,
   "metadata": {},
   "outputs": [
    {
     "data": {
      "text/html": [
       "<div>\n",
       "<style scoped>\n",
       "    .dataframe tbody tr th:only-of-type {\n",
       "        vertical-align: middle;\n",
       "    }\n",
       "\n",
       "    .dataframe tbody tr th {\n",
       "        vertical-align: top;\n",
       "    }\n",
       "\n",
       "    .dataframe thead th {\n",
       "        text-align: right;\n",
       "    }\n",
       "</style>\n",
       "<table border=\"1\" class=\"dataframe\">\n",
       "  <thead>\n",
       "    <tr style=\"text-align: right;\">\n",
       "      <th></th>\n",
       "      <th>artist</th>\n",
       "      <th>auth</th>\n",
       "      <th>firstName</th>\n",
       "      <th>gender</th>\n",
       "      <th>itemInSession</th>\n",
       "      <th>lastName</th>\n",
       "      <th>length</th>\n",
       "      <th>level</th>\n",
       "      <th>location</th>\n",
       "      <th>method</th>\n",
       "      <th>page</th>\n",
       "      <th>registration</th>\n",
       "      <th>sessionId</th>\n",
       "      <th>song</th>\n",
       "      <th>status</th>\n",
       "      <th>ts</th>\n",
       "      <th>userAgent</th>\n",
       "      <th>userId</th>\n",
       "    </tr>\n",
       "  </thead>\n",
       "  <tbody>\n",
       "    <tr>\n",
       "      <th>1</th>\n",
       "      <td>Slipknot</td>\n",
       "      <td>Logged In</td>\n",
       "      <td>Aiden</td>\n",
       "      <td>M</td>\n",
       "      <td>0</td>\n",
       "      <td>Ramirez</td>\n",
       "      <td>192.57424</td>\n",
       "      <td>paid</td>\n",
       "      <td>New York-Newark-Jersey City, NY-NJ-PA</td>\n",
       "      <td>PUT</td>\n",
       "      <td>NextSong</td>\n",
       "      <td>1.540284e+12</td>\n",
       "      <td>19</td>\n",
       "      <td>Opium Of The People (Album Version)</td>\n",
       "      <td>200</td>\n",
       "      <td>1541639510796</td>\n",
       "      <td>\"Mozilla/5.0 (Windows NT 6.1) AppleWebKit/537....</td>\n",
       "      <td>20</td>\n",
       "    </tr>\n",
       "    <tr>\n",
       "      <th>2</th>\n",
       "      <td>Cat Stevens</td>\n",
       "      <td>Logged In</td>\n",
       "      <td>Aiden</td>\n",
       "      <td>M</td>\n",
       "      <td>1</td>\n",
       "      <td>Ramirez</td>\n",
       "      <td>170.57914</td>\n",
       "      <td>paid</td>\n",
       "      <td>New York-Newark-Jersey City, NY-NJ-PA</td>\n",
       "      <td>PUT</td>\n",
       "      <td>NextSong</td>\n",
       "      <td>1.540284e+12</td>\n",
       "      <td>19</td>\n",
       "      <td>Don't Be Shy</td>\n",
       "      <td>200</td>\n",
       "      <td>1541639702796</td>\n",
       "      <td>\"Mozilla/5.0 (Windows NT 6.1) AppleWebKit/537....</td>\n",
       "      <td>20</td>\n",
       "    </tr>\n",
       "    <tr>\n",
       "      <th>3</th>\n",
       "      <td>Collective Soul</td>\n",
       "      <td>Logged In</td>\n",
       "      <td>Aiden</td>\n",
       "      <td>M</td>\n",
       "      <td>2</td>\n",
       "      <td>Ramirez</td>\n",
       "      <td>273.47546</td>\n",
       "      <td>paid</td>\n",
       "      <td>New York-Newark-Jersey City, NY-NJ-PA</td>\n",
       "      <td>PUT</td>\n",
       "      <td>NextSong</td>\n",
       "      <td>1.540284e+12</td>\n",
       "      <td>19</td>\n",
       "      <td>Run (LP Version)</td>\n",
       "      <td>200</td>\n",
       "      <td>1541639872796</td>\n",
       "      <td>\"Mozilla/5.0 (Windows NT 6.1) AppleWebKit/537....</td>\n",
       "      <td>20</td>\n",
       "    </tr>\n",
       "    <tr>\n",
       "      <th>4</th>\n",
       "      <td>Taylor Swift</td>\n",
       "      <td>Logged In</td>\n",
       "      <td>Aiden</td>\n",
       "      <td>M</td>\n",
       "      <td>3</td>\n",
       "      <td>Ramirez</td>\n",
       "      <td>233.89995</td>\n",
       "      <td>paid</td>\n",
       "      <td>New York-Newark-Jersey City, NY-NJ-PA</td>\n",
       "      <td>PUT</td>\n",
       "      <td>NextSong</td>\n",
       "      <td>1.540284e+12</td>\n",
       "      <td>19</td>\n",
       "      <td>Love Story</td>\n",
       "      <td>200</td>\n",
       "      <td>1541640145796</td>\n",
       "      <td>\"Mozilla/5.0 (Windows NT 6.1) AppleWebKit/537....</td>\n",
       "      <td>20</td>\n",
       "    </tr>\n",
       "    <tr>\n",
       "      <th>5</th>\n",
       "      <td>The Dixie Cups</td>\n",
       "      <td>Logged In</td>\n",
       "      <td>Aiden</td>\n",
       "      <td>M</td>\n",
       "      <td>4</td>\n",
       "      <td>Ramirez</td>\n",
       "      <td>120.05832</td>\n",
       "      <td>paid</td>\n",
       "      <td>New York-Newark-Jersey City, NY-NJ-PA</td>\n",
       "      <td>PUT</td>\n",
       "      <td>NextSong</td>\n",
       "      <td>1.540284e+12</td>\n",
       "      <td>19</td>\n",
       "      <td>Iko Iko</td>\n",
       "      <td>200</td>\n",
       "      <td>1541640378796</td>\n",
       "      <td>\"Mozilla/5.0 (Windows NT 6.1) AppleWebKit/537....</td>\n",
       "      <td>20</td>\n",
       "    </tr>\n",
       "  </tbody>\n",
       "</table>\n",
       "</div>"
      ],
      "text/plain": [
       "            artist       auth firstName gender  itemInSession lastName  \\\n",
       "1         Slipknot  Logged In     Aiden      M              0  Ramirez   \n",
       "2      Cat Stevens  Logged In     Aiden      M              1  Ramirez   \n",
       "3  Collective Soul  Logged In     Aiden      M              2  Ramirez   \n",
       "4     Taylor Swift  Logged In     Aiden      M              3  Ramirez   \n",
       "5   The Dixie Cups  Logged In     Aiden      M              4  Ramirez   \n",
       "\n",
       "      length level                               location method      page  \\\n",
       "1  192.57424  paid  New York-Newark-Jersey City, NY-NJ-PA    PUT  NextSong   \n",
       "2  170.57914  paid  New York-Newark-Jersey City, NY-NJ-PA    PUT  NextSong   \n",
       "3  273.47546  paid  New York-Newark-Jersey City, NY-NJ-PA    PUT  NextSong   \n",
       "4  233.89995  paid  New York-Newark-Jersey City, NY-NJ-PA    PUT  NextSong   \n",
       "5  120.05832  paid  New York-Newark-Jersey City, NY-NJ-PA    PUT  NextSong   \n",
       "\n",
       "   registration  sessionId                                 song  status  \\\n",
       "1  1.540284e+12         19  Opium Of The People (Album Version)     200   \n",
       "2  1.540284e+12         19                         Don't Be Shy     200   \n",
       "3  1.540284e+12         19                     Run (LP Version)     200   \n",
       "4  1.540284e+12         19                           Love Story     200   \n",
       "5  1.540284e+12         19                              Iko Iko     200   \n",
       "\n",
       "              ts                                          userAgent userId  \n",
       "1  1541639510796  \"Mozilla/5.0 (Windows NT 6.1) AppleWebKit/537....     20  \n",
       "2  1541639702796  \"Mozilla/5.0 (Windows NT 6.1) AppleWebKit/537....     20  \n",
       "3  1541639872796  \"Mozilla/5.0 (Windows NT 6.1) AppleWebKit/537....     20  \n",
       "4  1541640145796  \"Mozilla/5.0 (Windows NT 6.1) AppleWebKit/537....     20  \n",
       "5  1541640378796  \"Mozilla/5.0 (Windows NT 6.1) AppleWebKit/537....     20  "
      ]
     },
     "execution_count": 22,
     "metadata": {},
     "output_type": "execute_result"
    }
   ],
   "source": [
    "\n",
    "df_log.head()"
   ]
  },
  {
   "cell_type": "code",
   "execution_count": 23,
   "metadata": {},
   "outputs": [],
   "source": [
    "# df_log_clean = df_log.dropna(subset=['userId', 'firstName', 'lastName'], inplace=False, how='any')"
   ]
  },
  {
   "cell_type": "code",
   "execution_count": 24,
   "metadata": {},
   "outputs": [],
   "source": [
    "user_df = pd.DataFrame(np.array([df_log.userId, df_log.firstName, \n",
    "                        df_log.lastName, df_log.gender, df_log.level]).T,\n",
    "                        columns = ['user ID', 'first name',  'last name', 'gender', 'level']\n",
    "                      )"
   ]
  },
  {
   "cell_type": "code",
   "execution_count": 25,
   "metadata": {},
   "outputs": [
    {
     "data": {
      "text/plain": [
       "user ID       0\n",
       "first name    0\n",
       "last name     0\n",
       "gender        0\n",
       "level         0\n",
       "dtype: int64"
      ]
     },
     "execution_count": 25,
     "metadata": {},
     "output_type": "execute_result"
    }
   ],
   "source": [
    "user_df.isnull().sum()"
   ]
  },
  {
   "cell_type": "markdown",
   "metadata": {},
   "source": [
    "#### Insert Records into Users Table\n",
    "Implement the `user_table_insert` query in `sql_queries.py` and run the cell below to insert records for the users in this log file into the `users` table. Remember to run `create_tables.py` before running the cell below to ensure you've created/resetted the `users` table in the sparkify database."
   ]
  },
  {
   "cell_type": "code",
   "execution_count": 26,
   "metadata": {},
   "outputs": [],
   "source": [
    "for i, row in user_df.iterrows():\n",
    "    cur.execute(user_table_insert, row)\n",
    "    conn.commit()"
   ]
  },
  {
   "cell_type": "markdown",
   "metadata": {},
   "source": [
    "Run `test.ipynb` to see if you've successfully added records to this table."
   ]
  },
  {
   "cell_type": "markdown",
   "metadata": {},
   "source": [
    "## #5: `songplays` Table\n",
    "#### Extract Data and Songplays Table\n",
    "This one is a little more complicated since information from the songs table, artists table, and original log file are all needed for the `songplays` table. Since the log file does not specify an ID for either the song or the artist, you'll need to get the song ID and artist ID by querying the songs and artists tables to find matches based on song title, artist name, and song duration time.\n",
    "- Implement the `song_select` query in `sql_queries.py` to find the song ID and artist ID based on the title, artist name, and duration of a song.\n",
    "- Select the timestamp, user ID, level, song ID, artist ID, session ID, location, and user agent and set to `songplay_data`\n",
    "\n",
    "#### Insert Records into Songplays Table\n",
    "- Implement the `songplay_table_insert` query and run the cell below to insert records for the songplay actions in this log file into the `songplays` table. Remember to run `create_tables.py` before running the cell below to ensure you've created/resetted the `songplays` table in the sparkify database."
   ]
  },
  {
   "cell_type": "code",
   "execution_count": 28,
   "metadata": {},
   "outputs": [],
   "source": [
    "for index, row in df_log.iterrows():\n",
    "\n",
    "    # get songid and artistid from song and artist tables\n",
    "    results = None\n",
    "    if row.name and row.song:\n",
    "        cur.execute(song_select, (str(row.song), str(row.name), row.length))\n",
    "        results = cur.fetchone()\n",
    "    \n",
    "    if results:\n",
    "        songid, artistid = results\n",
    "    else:\n",
    "        songid, artistid = None, None\n",
    "\n",
    "    # insert songplay record\n",
    "    songplay_data = (index, row.ts, row.userId, row.level, songid, artistid,\n",
    "                     row.sessionId, row.location, row.userAgent )\n",
    "    cur.execute(songplay_table_insert, songplay_data)\n",
    "    conn.commit()"
   ]
  },
  {
   "cell_type": "markdown",
   "metadata": {},
   "source": [
    "Run `test.ipynb` to see if you've successfully added records to this table."
   ]
  },
  {
   "cell_type": "markdown",
   "metadata": {},
   "source": [
    "# Close Connection to Sparkify Database"
   ]
  },
  {
   "cell_type": "code",
   "execution_count": 29,
   "metadata": {},
   "outputs": [],
   "source": [
    "conn.close()"
   ]
  },
  {
   "cell_type": "markdown",
   "metadata": {},
   "source": [
    "# Implement `etl.py`\n",
    "Use what you've completed in this notebook to implement `etl.py`."
   ]
  },
  {
   "cell_type": "code",
   "execution_count": null,
   "metadata": {},
   "outputs": [],
   "source": []
  },
  {
   "cell_type": "code",
   "execution_count": null,
   "metadata": {},
   "outputs": [],
   "source": []
  }
 ],
 "metadata": {
  "kernelspec": {
   "display_name": "Python 3 (ipykernel)",
   "language": "python",
   "name": "python3"
  },
  "language_info": {
   "codemirror_mode": {
    "name": "ipython",
    "version": 3
   },
   "file_extension": ".py",
   "mimetype": "text/x-python",
   "name": "python",
   "nbconvert_exporter": "python",
   "pygments_lexer": "ipython3",
   "version": "3.10.6"
  },
  "vscode": {
   "interpreter": {
    "hash": "916dbcbb3f70747c44a77c7bcd40155683ae19c65e1c03b4aa3499c5328201f1"
   }
  }
 },
 "nbformat": 4,
 "nbformat_minor": 2
}
